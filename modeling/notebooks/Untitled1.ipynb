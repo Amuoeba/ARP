{
 "cells": [
  {
   "cell_type": "code",
   "execution_count": 1,
   "metadata": {},
   "outputs": [
    {
     "ename": "ModuleNotFoundError",
     "evalue": "No module named 'demo_utils'",
     "output_type": "error",
     "traceback": [
      "\u001b[0;31m---------------------------------------------------------------------------\u001b[0m",
      "\u001b[0;31mModuleNotFoundError\u001b[0m                       Traceback (most recent call last)",
      "\u001b[0;32m<ipython-input-1-3d7d9ff8800a>\u001b[0m in \u001b[0;36m<module>\u001b[0;34m\u001b[0m\n\u001b[1;32m      1\u001b[0m \u001b[0;32mfrom\u001b[0m \u001b[0msklearn\u001b[0m\u001b[0;34m.\u001b[0m\u001b[0mlinear_model\u001b[0m \u001b[0;32mimport\u001b[0m \u001b[0mLogisticRegression\u001b[0m\u001b[0;34m\u001b[0m\u001b[0;34m\u001b[0m\u001b[0m\n\u001b[1;32m      2\u001b[0m \u001b[0;32mfrom\u001b[0m \u001b[0mresemblyzer\u001b[0m \u001b[0;32mimport\u001b[0m \u001b[0mpreprocess_wav\u001b[0m\u001b[0;34m,\u001b[0m \u001b[0mVoiceEncoder\u001b[0m\u001b[0;34m\u001b[0m\u001b[0;34m\u001b[0m\u001b[0m\n\u001b[0;32m----> 3\u001b[0;31m \u001b[0;32mfrom\u001b[0m \u001b[0mdemo_utils\u001b[0m \u001b[0;32mimport\u001b[0m \u001b[0;34m*\u001b[0m\u001b[0;34m\u001b[0m\u001b[0;34m\u001b[0m\u001b[0m\n\u001b[0m\u001b[1;32m      4\u001b[0m \u001b[0;32mfrom\u001b[0m \u001b[0mpathlib\u001b[0m \u001b[0;32mimport\u001b[0m \u001b[0mPath\u001b[0m\u001b[0;34m\u001b[0m\u001b[0;34m\u001b[0m\u001b[0m\n\u001b[1;32m      5\u001b[0m \u001b[0;32mfrom\u001b[0m \u001b[0mtqdm\u001b[0m \u001b[0;32mimport\u001b[0m \u001b[0mtqdm\u001b[0m\u001b[0;34m\u001b[0m\u001b[0;34m\u001b[0m\u001b[0m\n",
      "\u001b[0;31mModuleNotFoundError\u001b[0m: No module named 'demo_utils'"
     ]
    }
   ],
   "source": [
    "from sklearn.linear_model import LogisticRegression \n",
    "from resemblyzer import preprocess_wav, VoiceEncoder\n",
    "from demo_utils import *\n",
    "from pathlib import Path\n",
    "from tqdm import tqdm\n",
    "import numpy as np\n",
    "\n",
    "\n",
    "# DEMO 04: building from the previous demonstration, we'll show how natural properties of the \n",
    "# voice can emerge through analysis of the embeddings. The dimensionality reduction algorithm \n",
    "# UMAP will create clusters from embeddings with similar features. When provided with samples \n",
    "# from many distinct speakers, it tends to create two clusters for each sex. This is what we'll \n",
    "# show here, by using the speaker metadata file provided in the LibriSpeech dataset to retrieve \n",
    "# the sex of each speaker. Note that this information was never used during training of the voice\n",
    "# encoder model, be it as input feature or target. This means that the distinction was learned \n",
    "# entirely in an unsupervised manner.\n",
    "# Note that if you try this code on different data (or on fewer speakers), you may observe an \n",
    "# entirely different clustering, e.g. based on the accent of the speakers. Changing the \n",
    "# parameters of UMAP or the dimensionality reduction altogether will also give you a different \n",
    "# view of the manifold.\n",
    "\n",
    "\n",
    "## Gather a single utterance per speaker\n",
    "data_dir = Path(\"audio_data\", \"librispeech_train-clean-100\")\n",
    "wav_fpaths = list(data_dir.glob(\"*.flac\"))\n",
    "speakers = [fpath.stem.split(\"-\")[0] for fpath in wav_fpaths]\n",
    "wavs = [preprocess_wav(wav_fpath) for wav_fpath in \\\n",
    "        tqdm(wav_fpaths, \"Preprocessing wavs\", len(wav_fpaths), unit=\" utterances\")]\n",
    "\n",
    "# Get the sex of each speaker from the metadata file\n",
    "with data_dir.joinpath(\"SPEAKERS.TXT\").open(\"r\") as f:\n",
    "    sexes = dict(l.replace(\" \", \"\").split(\"|\")[:2] for l in f if not l.startswith(\";\"))\n",
    "markers = [\"x\" if sexes[speaker] == \"M\" else \"o\" for speaker in speakers]\n",
    "colors = [\"black\"] * len(speakers)\n",
    "\n",
    "\n",
    "## Compute the embeddings\n",
    "encoder = VoiceEncoder()\n",
    "utterance_embeds = np.array(list(map(encoder.embed_utterance, wavs)))\n",
    "\n",
    "\n",
    "## Project the embeddings in 2D space. \n",
    "_, ax = plt.subplots(figsize=(6, 6))\n",
    "# Passing min_dist=1 to UMAP will make it so the projections don't necessarily need to fit in \n",
    "# clusters, so that you can have a better idea of what the manifold really looks like. \n",
    "projs = plot_projections(utterance_embeds, speakers, ax, colors, markers, False,\n",
    "                         min_dist=1)\n",
    "ax.set_title(\"Embeddings for %d speakers\" % (len(speakers)))\n",
    "ax.scatter([], [], marker=\"x\", c=\"black\", label=\"Male speaker\")\n",
    "ax.scatter([], [], marker=\"o\", c=\"black\", label=\"Female speaker\")\n",
    "\n",
    "# Separate the data by the sex\n",
    "classifier = LogisticRegression(solver=\"lbfgs\")\n",
    "classifier.fit(projs, markers)\n",
    "x = np.linspace(*ax.get_xlim(), num=200)\n",
    "y = -(classifier.coef_[0, 0] * x + classifier.intercept_) / classifier.coef_[0, 1]\n",
    "mask = (y > ax.get_ylim()[0]) & (y < ax.get_ylim()[1])\n",
    "ax.plot(x[mask], y[mask], label=\"Decision boundary\")\n",
    "\n",
    "ax.legend()\n",
    "plt.show()"
   ]
  }
 ],
 "metadata": {
  "kernelspec": {
   "display_name": "Python 3",
   "language": "python",
   "name": "python3"
  },
  "language_info": {
   "codemirror_mode": {
    "name": "ipython",
    "version": 3
   },
   "file_extension": ".py",
   "mimetype": "text/x-python",
   "name": "python",
   "nbconvert_exporter": "python",
   "pygments_lexer": "ipython3",
   "version": "3.7.4"
  }
 },
 "nbformat": 4,
 "nbformat_minor": 2
}
